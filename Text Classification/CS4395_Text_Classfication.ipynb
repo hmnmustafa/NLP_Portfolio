{
  "nbformat": 4,
  "nbformat_minor": 0,
  "metadata": {
    "colab": {
      "provenance": []
    },
    "kernelspec": {
      "name": "python3",
      "display_name": "Python 3"
    },
    "language_info": {
      "name": "python"
    }
  },
  "cells": [
    {
      "cell_type": "markdown",
      "source": [
        "# **Text Classification**\n",
        "By Hamna Mustafa - hbm170002\n"
      ],
      "metadata": {
        "id": "nz3VywvCpli0"
      }
    },
    {
      "cell_type": "code",
      "execution_count": null,
      "metadata": {
        "id": "vWZRPReK4P7-"
      },
      "outputs": [],
      "source": [
        "\n",
        "import tensorflow as tf\n",
        "from tensorflow.keras import datasets, layers, models\n",
        "import pandas as pd\n",
        "import seaborn as sb"
      ]
    },
    {
      "cell_type": "markdown",
      "source": [
        "## Data Preprocessing\n",
        "\n",
        "I got the following dataset from Kaggle: https://www.kaggle.com/datasets/jonathanbesomi/superheroes-nlp-dataset\n"
      ],
      "metadata": {
        "id": "7ovLcUy1p5SO"
      }
    },
    {
      "cell_type": "code",
      "source": [
        "# reading in my dataset \n",
        "df = pd.read_csv('/content/superheroes_nlp_dataset.csv')\n",
        "print('rows and columns:', df.shape)\n",
        "print(df.head())"
      ],
      "metadata": {
        "colab": {
          "base_uri": "https://localhost:8080/"
        },
        "id": "emL47a3S4Um3",
        "outputId": "9ea53c05-fc51-4a0c-85ad-6eba0004a73e"
      },
      "execution_count": null,
      "outputs": [
        {
          "output_type": "stream",
          "name": "stdout",
          "text": [
            "rows and columns: (1450, 81)\n",
            "            name               real_name               full_name  \\\n",
            "0        3-D Man     Delroy Garrett, Jr.     Delroy Garrett, Jr.   \n",
            "1  514A (Gotham)             Bruce Wayne                     NaN   \n",
            "2         A-Bomb  Richard Milhouse Jones  Richard Milhouse Jones   \n",
            "3             Aa                      Aa                     NaN   \n",
            "4     Aaron Cash              Aaron Cash              Aaron Cash   \n",
            "\n",
            "  overall_score                                       history_text  \\\n",
            "0             6  Delroy Garrett, Jr. grew up to become a track ...   \n",
            "1            10  He was one of the many prisoners of Indian Hil...   \n",
            "2            20   Richard \"Rick\" Jones was orphaned at a young ...   \n",
            "3            12  Aa is one of the more passive members of the P...   \n",
            "4             5  Aaron Cash is the head of security at Arkham A...   \n",
            "\n",
            "                                         powers_text  intelligence_score  \\\n",
            "0                                                NaN                  85   \n",
            "1                                                NaN                 100   \n",
            "2    On rare occasions, and through unusual circu...                  80   \n",
            "3                                                NaN                  80   \n",
            "4                                                NaN                  80   \n",
            "\n",
            "   strength_score  speed_score  durability_score  ...  has_flight  \\\n",
            "0              30           60                60  ...         0.0   \n",
            "1              20           30                50  ...         0.0   \n",
            "2             100           80               100  ...         0.0   \n",
            "3              50           55                45  ...         0.0   \n",
            "4              10           25                40  ...         0.0   \n",
            "\n",
            "   has_accelerated_healing has_weapons_master has_intelligence has_reflexes  \\\n",
            "0                      0.0                0.0              0.0          0.0   \n",
            "1                      0.0                0.0              0.0          1.0   \n",
            "2                      1.0                0.0              0.0          1.0   \n",
            "3                      0.0                0.0              0.0          0.0   \n",
            "4                      0.0                1.0              0.0          0.0   \n",
            "\n",
            "  has_super_speed has_durability has_stamina has_agility has_super_strength  \n",
            "0             1.0            0.0         0.0         0.0                1.0  \n",
            "1             0.0            1.0         0.0         0.0                1.0  \n",
            "2             1.0            1.0         1.0         1.0                1.0  \n",
            "3             0.0            0.0         0.0         0.0                0.0  \n",
            "4             0.0            0.0         0.0         0.0                0.0  \n",
            "\n",
            "[5 rows x 81 columns]\n"
          ]
        }
      ]
    },
    {
      "cell_type": "markdown",
      "source": [
        "Looking at the shape of this dataset, we can see that there are many columns that are not text-based. This dataset can be used for many different NLP projects. However, for our text classification project, only 3 columns will be considered: creator, powers_text, and history_text\n",
        "\n",
        "I will attempt to train a model that can guess the creator of the 'superhero' based on the powers_text and history_text column. \n",
        "\n",
        "Below, I am checking how many rows in the creator column are empty. "
      ],
      "metadata": {
        "id": "XgQ-3lqsqK21"
      }
    },
    {
      "cell_type": "code",
      "source": [
        "# checking how many rows in the creator column are null\n",
        "df.isnull().sum()['creator']\n"
      ],
      "metadata": {
        "colab": {
          "base_uri": "https://localhost:8080/"
        },
        "id": "RA2OY5eU6wZb",
        "outputId": "7bc228d4-40d2-47cd-ad20-8cec8ff6e333"
      },
      "execution_count": null,
      "outputs": [
        {
          "output_type": "execute_result",
          "data": {
            "text/plain": [
              "139"
            ]
          },
          "metadata": {},
          "execution_count": 3
        }
      ]
    },
    {
      "cell_type": "markdown",
      "source": [
        "I am only keeping the 3 columns mentioned above in my data frame and deleting all the rows in which creator is null."
      ],
      "metadata": {
        "id": "LubzgghRq6oe"
      }
    },
    {
      "cell_type": "code",
      "source": [
        "df = df[[\"history_text\", \"powers_text\",'creator']]\n",
        "df = df.dropna(subset=['creator'])\n",
        "df.isnull().sum()"
      ],
      "metadata": {
        "colab": {
          "base_uri": "https://localhost:8080/"
        },
        "id": "4njKvmr97zjJ",
        "outputId": "827e9fa1-3fdb-4897-bac5-2e96b4563049"
      },
      "execution_count": null,
      "outputs": [
        {
          "output_type": "execute_result",
          "data": {
            "text/plain": [
              "history_text     78\n",
              "powers_text     346\n",
              "creator           0\n",
              "dtype: int64"
            ]
          },
          "metadata": {},
          "execution_count": 4
        }
      ]
    },
    {
      "cell_type": "markdown",
      "source": [
        "As you can see, the powers_text column had way too many NA's. If I deleted all these rows, my dataframe would be become quite small. Thus, I decided to delete the powers_text column and train my model to predict the creator based on just the history-text column."
      ],
      "metadata": {
        "id": "I34RnqzxrGv1"
      }
    },
    {
      "cell_type": "code",
      "source": [
        "# only keeping two columns\n",
        "df = df[['history_text','creator']]\n",
        "\n",
        "# deleting all rows where the history_text is empty\n",
        "df = df.dropna(subset=['history_text'])\n",
        "df.isnull().sum()"
      ],
      "metadata": {
        "colab": {
          "base_uri": "https://localhost:8080/"
        },
        "id": "XmtFWG5IHT1Y",
        "outputId": "854326f5-6f48-4349-cf7c-407fb854b94a"
      },
      "execution_count": null,
      "outputs": [
        {
          "output_type": "execute_result",
          "data": {
            "text/plain": [
              "history_text    0\n",
              "creator         0\n",
              "dtype: int64"
            ]
          },
          "metadata": {},
          "execution_count": 5
        }
      ]
    },
    {
      "cell_type": "markdown",
      "source": [
        "Plotting a graph showing a distribution of the target classes."
      ],
      "metadata": {
        "id": "ujVyk1-Vroyj"
      }
    },
    {
      "cell_type": "code",
      "source": [
        "\n",
        "sb.catplot(x='creator', kind='count', data=df)"
      ],
      "metadata": {
        "colab": {
          "base_uri": "https://localhost:8080/",
          "height": 386
        },
        "id": "er2t3JQp85XU",
        "outputId": "1863e7dc-ccf3-4fed-c918-8310a4d4abf7"
      },
      "execution_count": null,
      "outputs": [
        {
          "output_type": "execute_result",
          "data": {
            "text/plain": [
              "<seaborn.axisgrid.FacetGrid at 0x7fe7d0cb36a0>"
            ]
          },
          "metadata": {},
          "execution_count": 6
        },
        {
          "output_type": "display_data",
          "data": {
            "text/plain": [
              "<Figure size 360x360 with 1 Axes>"
            ],
            "image/png": "[encoded data removed]"
          },
          "metadata": {
            "needs_background": "light"
          }
        }
      ]
    },
    {
      "cell_type": "markdown",
      "source": [
        "As you can see, there are only two classes that have high counts: Marvel Comics and DC Comics. There are many other creators but their counts are very low. Hence, for my project, I decided to only consider the top two classes, as the count of the rest is low enough to be left out.  "
      ],
      "metadata": {
        "id": "bigBFLggrz60"
      }
    },
    {
      "cell_type": "code",
      "source": [
        "\n",
        "# only keeping the rows in which the creator is Marvel Comics or DC Comics\n",
        "indexAge = df[ (df['creator'] != 'Marvel Comics') & (df['creator'] != 'DC Comics') ].index\n",
        "df.drop(indexAge , inplace=True)\n",
        "df.head()\n",
        "\n",
        "# plotting a graph that shows the distribution of the new target classes.\n",
        "sb.catplot(x='creator', kind='count', data=df)"
      ],
      "metadata": {
        "colab": {
          "base_uri": "https://localhost:8080/",
          "height": 386
        },
        "id": "d_VUfbC7-8N1",
        "outputId": "757b2655-3409-424f-bd78-6a092667a97a"
      },
      "execution_count": null,
      "outputs": [
        {
          "output_type": "execute_result",
          "data": {
            "text/plain": [
              "<seaborn.axisgrid.FacetGrid at 0x7fe7d0ce6520>"
            ]
          },
          "metadata": {},
          "execution_count": 7
        },
        {
          "output_type": "display_data",
          "data": {
            "text/plain": [
              "<Figure size 360x360 with 1 Axes>"
            ],
            "image/png": "[encoded data removed]"
          },
          "metadata": {
            "needs_background": "light"
          }
        }
      ]
    },
    {
      "cell_type": "code",
      "source": [
        "features = df[\"history_text\"]\n",
        "print(features.head())\n",
        "target = df[\"creator\"]\n",
        "print(target.head())\n",
        "\n",
        "target = target.astype({\"creator\":'category'})\n",
        "\n"
      ],
      "metadata": {
        "id": "WbfsxS2GAnj2",
        "outputId": "792add69-dd1f-46ab-9afd-1fd9ec3a5a3a",
        "colab": {
          "base_uri": "https://localhost:8080/"
        }
      },
      "execution_count": null,
      "outputs": [
        {
          "output_type": "stream",
          "name": "stdout",
          "text": [
            "0    Delroy Garrett, Jr. grew up to become a track ...\n",
            "1    He was one of the many prisoners of Indian Hil...\n",
            "2     Richard \"Rick\" Jones was orphaned at a young ...\n",
            "3    Aa is one of the more passive members of the P...\n",
            "4    Aaron Cash is the head of security at Arkham A...\n",
            "Name: history_text, dtype: object\n",
            "0    Marvel Comics\n",
            "1        DC Comics\n",
            "2    Marvel Comics\n",
            "3        DC Comics\n",
            "4        DC Comics\n",
            "Name: creator, dtype: object\n"
          ]
        }
      ]
    },
    {
      "cell_type": "markdown",
      "source": [
        "## Splitting into Train and Test sets\n"
      ],
      "metadata": {
        "id": "0twUp5A8slB2"
      }
    },
    {
      "cell_type": "code",
      "source": [
        "from sklearn.model_selection import train_test_split\n",
        "from sklearn.metrics import accuracy_score\n",
        "from tensorflow.keras.preprocessing.text import Tokenizer\n",
        "from sklearn.preprocessing import LabelEncoder"
      ],
      "metadata": {
        "id": "lBSyrRNmAok6"
      },
      "execution_count": null,
      "outputs": []
    },
    {
      "cell_type": "code",
      "source": [
        "from tensorflow.keras.preprocessing.text import Tokenizer\n",
        "from sklearn.preprocessing import LabelEncoder\n",
        "\n",
        "X_train, X_test, y_train, y_test = train_test_split(features, target, test_size=0.2, train_size=0.8, random_state=1234)"
      ],
      "metadata": {
        "id": "xyOi5dcuFPt0"
      },
      "execution_count": null,
      "outputs": []
    },
    {
      "cell_type": "markdown",
      "source": [
        "## Tokenizing and Encoding Data"
      ],
      "metadata": {
        "id": "-yNccx3T4vZp"
      }
    },
    {
      "cell_type": "code",
      "source": [
        "# set up X and Y\n",
        "num_labels = 2\n",
        "vocab_size = 25000\n",
        "batch_size = 100\n",
        "\n",
        "# fit the tokenizer on the training data\n",
        "tokenizer = Tokenizer(num_words=vocab_size)\n",
        "tokenizer.fit_on_texts(X_train)\n",
        "\n",
        "x_train_tok = tokenizer.texts_to_matrix(X_train, mode='tfidf')\n",
        "x_test_tok = tokenizer.texts_to_matrix(X_test, mode='tfidf')\n",
        "\n",
        "encoder = LabelEncoder()\n",
        "encoder.fit(y_train)\n",
        "y_train_tok = encoder.transform(y_train)\n",
        "y_test_tok = encoder.transform(y_test)\n",
        "\n",
        "# check shape\n",
        "print(\"train shapes:\", x_train_tok.shape, y_train_tok.shape)\n",
        "print(\"test shapes:\", x_test_tok.shape, y_test_tok.shape)\n",
        "print(\"test first five labels:\", y_test_tok[:5])"
      ],
      "metadata": {
        "colab": {
          "base_uri": "https://localhost:8080/"
        },
        "id": "awe_x03EFSri",
        "outputId": "7c5acf4d-6212-41a0-f77b-44d47319290f"
      },
      "execution_count": null,
      "outputs": [
        {
          "output_type": "stream",
          "name": "stdout",
          "text": [
            "train shapes: (797, 25000) (797,)\n",
            "test shapes: (200, 25000) (200,)\n",
            "test first five labels: [0 0 1 1 1]\n"
          ]
        }
      ]
    },
    {
      "cell_type": "markdown",
      "source": [
        "## Sequential Models\n",
        "\n",
        "I tried two sequential models with different topologies. "
      ],
      "metadata": {
        "id": "m1v1MxTcs46s"
      }
    },
    {
      "cell_type": "code",
      "source": [
        "vocab_size = 25000\n",
        "model = models.Sequential()\n",
        "model.add(layers.Dense(32, input_dim=vocab_size, kernel_initializer='normal', activation='relu'))\n",
        "model.add(layers.Dense(1, kernel_initializer='normal', activation='sigmoid'))\n",
        " \n",
        "model.compile(loss='binary_crossentropy',\n",
        "              optimizer='adam',\n",
        "              metrics=['accuracy'])\n",
        " \n",
        "history = model.fit(x_train_tok, y_train_tok,\n",
        "                    epochs=50,\n",
        "                    verbose=1,\n",
        "                    validation_split=0.1)"
      ],
      "metadata": {
        "colab": {
          "base_uri": "https://localhost:8080/"
        },
        "id": "P2ULIpqAEW1g",
        "outputId": "a7e95587-b2c5-4e85-c0b7-4a6b561a67fc"
      },
      "execution_count": null,
      "outputs": [
        {
          "output_type": "stream",
          "name": "stdout",
          "text": [
            "Epoch 1/50\n",
            "23/23 [==============================] - 1s 18ms/step - loss: 0.5971 - accuracy: 0.6681 - val_loss: 0.4415 - val_accuracy: 0.7875\n",
            "Epoch 2/50\n",
            "23/23 [==============================] - 0s 11ms/step - loss: 0.2867 - accuracy: 0.9456 - val_loss: 0.3027 - val_accuracy: 0.9000\n",
            "Epoch 3/50\n",
            "23/23 [==============================] - 0s 12ms/step - loss: 0.1621 - accuracy: 0.9861 - val_loss: 0.2174 - val_accuracy: 0.9375\n",
            "Epoch 4/50\n",
            "23/23 [==============================] - 0s 12ms/step - loss: 0.0962 - accuracy: 0.9944 - val_loss: 0.1762 - val_accuracy: 0.9500\n",
            "Epoch 5/50\n",
            "23/23 [==============================] - 0s 11ms/step - loss: 0.0630 - accuracy: 0.9958 - val_loss: 0.1549 - val_accuracy: 0.9500\n",
            "Epoch 6/50\n",
            "23/23 [==============================] - 0s 11ms/step - loss: 0.0449 - accuracy: 0.9986 - val_loss: 0.1419 - val_accuracy: 0.9500\n",
            "Epoch 7/50\n",
            "23/23 [==============================] - 0s 12ms/step - loss: 0.0338 - accuracy: 1.0000 - val_loss: 0.1348 - val_accuracy: 0.9500\n",
            "Epoch 8/50\n",
            "23/23 [==============================] - 0s 12ms/step - loss: 0.0268 - accuracy: 1.0000 - val_loss: 0.1304 - val_accuracy: 0.9500\n",
            "Epoch 9/50\n",
            "23/23 [==============================] - 0s 11ms/step - loss: 0.0218 - accuracy: 1.0000 - val_loss: 0.1279 - val_accuracy: 0.9500\n",
            "Epoch 10/50\n",
            "23/23 [==============================] - 0s 12ms/step - loss: 0.0182 - accuracy: 1.0000 - val_loss: 0.1260 - val_accuracy: 0.9500\n",
            "Epoch 11/50\n",
            "23/23 [==============================] - 0s 12ms/step - loss: 0.0155 - accuracy: 1.0000 - val_loss: 0.1250 - val_accuracy: 0.9500\n",
            "Epoch 12/50\n",
            "23/23 [==============================] - 0s 12ms/step - loss: 0.0133 - accuracy: 1.0000 - val_loss: 0.1248 - val_accuracy: 0.9625\n",
            "Epoch 13/50\n",
            "23/23 [==============================] - 0s 11ms/step - loss: 0.0116 - accuracy: 1.0000 - val_loss: 0.1247 - val_accuracy: 0.9625\n",
            "Epoch 14/50\n",
            "23/23 [==============================] - 0s 12ms/step - loss: 0.0102 - accuracy: 1.0000 - val_loss: 0.1245 - val_accuracy: 0.9625\n",
            "Epoch 15/50\n",
            "23/23 [==============================] - 0s 11ms/step - loss: 0.0090 - accuracy: 1.0000 - val_loss: 0.1249 - val_accuracy: 0.9625\n",
            "Epoch 16/50\n",
            "23/23 [==============================] - 0s 12ms/step - loss: 0.0081 - accuracy: 1.0000 - val_loss: 0.1250 - val_accuracy: 0.9625\n",
            "Epoch 17/50\n",
            "23/23 [==============================] - 0s 11ms/step - loss: 0.0073 - accuracy: 1.0000 - val_loss: 0.1257 - val_accuracy: 0.9625\n",
            "Epoch 18/50\n",
            "23/23 [==============================] - 0s 11ms/step - loss: 0.0066 - accuracy: 1.0000 - val_loss: 0.1258 - val_accuracy: 0.9625\n",
            "Epoch 19/50\n",
            "23/23 [==============================] - 0s 11ms/step - loss: 0.0060 - accuracy: 1.0000 - val_loss: 0.1264 - val_accuracy: 0.9625\n",
            "Epoch 20/50\n",
            "23/23 [==============================] - 0s 11ms/step - loss: 0.0054 - accuracy: 1.0000 - val_loss: 0.1272 - val_accuracy: 0.9625\n",
            "Epoch 21/50\n",
            "23/23 [==============================] - 0s 12ms/step - loss: 0.0049 - accuracy: 1.0000 - val_loss: 0.1276 - val_accuracy: 0.9625\n",
            "Epoch 22/50\n",
            "23/23 [==============================] - 0s 11ms/step - loss: 0.0045 - accuracy: 1.0000 - val_loss: 0.1285 - val_accuracy: 0.9625\n",
            "Epoch 23/50\n",
            "23/23 [==============================] - 0s 11ms/step - loss: 0.0042 - accuracy: 1.0000 - val_loss: 0.1289 - val_accuracy: 0.9625\n",
            "Epoch 24/50\n",
            "23/23 [==============================] - 0s 11ms/step - loss: 0.0038 - accuracy: 1.0000 - val_loss: 0.1297 - val_accuracy: 0.9625\n",
            "Epoch 25/50\n",
            "23/23 [==============================] - 0s 11ms/step - loss: 0.0035 - accuracy: 1.0000 - val_loss: 0.1302 - val_accuracy: 0.9625\n",
            "Epoch 26/50\n",
            "23/23 [==============================] - 0s 11ms/step - loss: 0.0032 - accuracy: 1.0000 - val_loss: 0.1308 - val_accuracy: 0.9625\n",
            "Epoch 27/50\n",
            "23/23 [==============================] - 0s 11ms/step - loss: 0.0030 - accuracy: 1.0000 - val_loss: 0.1316 - val_accuracy: 0.9625\n",
            "Epoch 28/50\n",
            "23/23 [==============================] - 0s 11ms/step - loss: 0.0028 - accuracy: 1.0000 - val_loss: 0.1323 - val_accuracy: 0.9625\n",
            "Epoch 29/50\n",
            "23/23 [==============================] - 0s 11ms/step - loss: 0.0026 - accuracy: 1.0000 - val_loss: 0.1330 - val_accuracy: 0.9625\n",
            "Epoch 30/50\n",
            "23/23 [==============================] - 0s 12ms/step - loss: 0.0024 - accuracy: 1.0000 - val_loss: 0.1336 - val_accuracy: 0.9625\n",
            "Epoch 31/50\n",
            "23/23 [==============================] - 0s 11ms/step - loss: 0.0022 - accuracy: 1.0000 - val_loss: 0.1341 - val_accuracy: 0.9625\n",
            "Epoch 32/50\n",
            "23/23 [==============================] - 0s 11ms/step - loss: 0.0021 - accuracy: 1.0000 - val_loss: 0.1349 - val_accuracy: 0.9625\n",
            "Epoch 33/50\n",
            "23/23 [==============================] - 0s 11ms/step - loss: 0.0019 - accuracy: 1.0000 - val_loss: 0.1353 - val_accuracy: 0.9625\n",
            "Epoch 34/50\n",
            "23/23 [==============================] - 0s 12ms/step - loss: 0.0018 - accuracy: 1.0000 - val_loss: 0.1360 - val_accuracy: 0.9625\n",
            "Epoch 35/50\n",
            "23/23 [==============================] - 0s 13ms/step - loss: 0.0017 - accuracy: 1.0000 - val_loss: 0.1367 - val_accuracy: 0.9625\n",
            "Epoch 36/50\n",
            "23/23 [==============================] - 0s 11ms/step - loss: 0.0016 - accuracy: 1.0000 - val_loss: 0.1374 - val_accuracy: 0.9625\n",
            "Epoch 37/50\n",
            "23/23 [==============================] - 0s 11ms/step - loss: 0.0015 - accuracy: 1.0000 - val_loss: 0.1377 - val_accuracy: 0.9625\n",
            "Epoch 38/50\n",
            "23/23 [==============================] - 0s 13ms/step - loss: 0.0014 - accuracy: 1.0000 - val_loss: 0.1386 - val_accuracy: 0.9625\n",
            "Epoch 39/50\n",
            "23/23 [==============================] - 0s 11ms/step - loss: 0.0013 - accuracy: 1.0000 - val_loss: 0.1394 - val_accuracy: 0.9625\n",
            "Epoch 40/50\n",
            "23/23 [==============================] - 0s 12ms/step - loss: 0.0013 - accuracy: 1.0000 - val_loss: 0.1400 - val_accuracy: 0.9625\n",
            "Epoch 41/50\n",
            "23/23 [==============================] - 0s 12ms/step - loss: 0.0012 - accuracy: 1.0000 - val_loss: 0.1405 - val_accuracy: 0.9625\n",
            "Epoch 42/50\n",
            "23/23 [==============================] - 0s 11ms/step - loss: 0.0011 - accuracy: 1.0000 - val_loss: 0.1411 - val_accuracy: 0.9625\n",
            "Epoch 43/50\n",
            "23/23 [==============================] - 0s 11ms/step - loss: 0.0011 - accuracy: 1.0000 - val_loss: 0.1417 - val_accuracy: 0.9625\n",
            "Epoch 44/50\n",
            "23/23 [==============================] - 0s 11ms/step - loss: 0.0010 - accuracy: 1.0000 - val_loss: 0.1423 - val_accuracy: 0.9625\n",
            "Epoch 45/50\n",
            "23/23 [==============================] - 0s 11ms/step - loss: 9.8326e-04 - accuracy: 1.0000 - val_loss: 0.1433 - val_accuracy: 0.9625\n",
            "Epoch 46/50\n",
            "23/23 [==============================] - 0s 11ms/step - loss: 9.4084e-04 - accuracy: 1.0000 - val_loss: 0.1437 - val_accuracy: 0.9625\n",
            "Epoch 47/50\n",
            "23/23 [==============================] - 0s 12ms/step - loss: 8.8929e-04 - accuracy: 1.0000 - val_loss: 0.1442 - val_accuracy: 0.9625\n",
            "Epoch 48/50\n",
            "23/23 [==============================] - 0s 13ms/step - loss: 8.4761e-04 - accuracy: 1.0000 - val_loss: 0.1448 - val_accuracy: 0.9625\n",
            "Epoch 49/50\n",
            "23/23 [==============================] - 0s 12ms/step - loss: 8.1185e-04 - accuracy: 1.0000 - val_loss: 0.1452 - val_accuracy: 0.9625\n",
            "Epoch 50/50\n",
            "23/23 [==============================] - 0s 12ms/step - loss: 7.7479e-04 - accuracy: 1.0000 - val_loss: 0.1457 - val_accuracy: 0.9625\n"
          ]
        }
      ]
    },
    {
      "cell_type": "markdown",
      "source": [
        "### Accuracy of first sequential model"
      ],
      "metadata": {
        "id": "yBKRzPGMtI74"
      }
    },
    {
      "cell_type": "code",
      "source": [
        "from sklearn.metrics import accuracy_score, precision_score, recall_score, f1_score\n",
        "\n",
        "pred = model.predict(x_test_tok)\n",
        "pred_labels = [1 if p>0.5 else 0 for p in pred]\n",
        "Seq1accuracy = []\n",
        "Seq1accuracy += [accuracy_score(y_test_tok, pred_labels)]\n",
        "Seq1accuracy += [precision_score(y_test_tok, pred_labels)]\n",
        "Seq1accuracy += [recall_score(y_test_tok, pred_labels)]\n",
        "Seq1accuracy += [f1_score(y_test_tok, pred_labels)]\n",
        "print('accuracy score: ', Seq1accuracy[0])\n",
        "print('precision score: ', Seq1accuracy[1])\n",
        "print('recall score: ', Seq1accuracy[2])\n",
        "print('f1 score: ', Seq1accuracy[3])"
      ],
      "metadata": {
        "colab": {
          "base_uri": "https://localhost:8080/"
        },
        "id": "Eq7rYGc1IJdL",
        "outputId": "6ca06715-0a26-42f7-8927-1b1d9f639b3e"
      },
      "execution_count": null,
      "outputs": [
        {
          "output_type": "stream",
          "name": "stdout",
          "text": [
            "7/7 [==============================] - 0s 4ms/step\n",
            "accuracy score:  0.905\n",
            "precision score:  0.9210526315789473\n",
            "recall score:  0.9130434782608695\n",
            "f1 score:  0.9170305676855894\n"
          ]
        }
      ]
    },
    {
      "cell_type": "markdown",
      "source": [
        "## Second Sequential Model"
      ],
      "metadata": {
        "id": "fDQca6lstO2-"
      }
    },
    {
      "cell_type": "code",
      "source": [
        "model2 = models.Sequential()\n",
        "model2.add(layers.Dense(16, activation='relu', input_shape=(25000,)))\n",
        "model2.add(layers.Dense(16, activation='relu'))\n",
        "model2.add(layers.Dense(1, activation='sigmoid'))"
      ],
      "metadata": {
        "id": "vGgSdHhlIh4m"
      },
      "execution_count": null,
      "outputs": []
    },
    {
      "cell_type": "code",
      "source": [
        "model2.compile(optimizer='rmsprop',\n",
        "              loss='binary_crossentropy',\n",
        "              metrics=['accuracy'])"
      ],
      "metadata": {
        "id": "blq2dz9lI3Wa"
      },
      "execution_count": null,
      "outputs": []
    },
    {
      "cell_type": "code",
      "source": [
        "history2 = model2.fit(x_train_tok,\n",
        "                    y_train_tok,\n",
        "                    epochs=20,\n",
        "                    \n",
        "                    )"
      ],
      "metadata": {
        "colab": {
          "base_uri": "https://localhost:8080/"
        },
        "id": "TnGr5I75I6k9",
        "outputId": "63899915-b1e8-4174-8088-a9e05e17b5cf"
      },
      "execution_count": null,
      "outputs": [
        {
          "output_type": "stream",
          "name": "stdout",
          "text": [
            "Epoch 1/20\n",
            "25/25 [==============================] - 0s 10ms/step - loss: 1.2942e-04 - accuracy: 1.0000\n",
            "Epoch 2/20\n",
            "25/25 [==============================] - 0s 11ms/step - loss: 9.9926e-05 - accuracy: 1.0000\n",
            "Epoch 3/20\n",
            "25/25 [==============================] - 0s 10ms/step - loss: 7.6616e-05 - accuracy: 1.0000\n",
            "Epoch 4/20\n",
            "25/25 [==============================] - 0s 10ms/step - loss: 5.7728e-05 - accuracy: 1.0000\n",
            "Epoch 5/20\n",
            "25/25 [==============================] - 0s 9ms/step - loss: 4.4017e-05 - accuracy: 1.0000\n",
            "Epoch 6/20\n",
            "25/25 [==============================] - 0s 10ms/step - loss: 3.5131e-05 - accuracy: 1.0000\n",
            "Epoch 7/20\n",
            "25/25 [==============================] - 0s 10ms/step - loss: 2.8583e-05 - accuracy: 1.0000\n",
            "Epoch 8/20\n",
            "25/25 [==============================] - 0s 10ms/step - loss: 2.2764e-05 - accuracy: 1.0000\n",
            "Epoch 9/20\n",
            "25/25 [==============================] - 0s 10ms/step - loss: 1.8326e-05 - accuracy: 1.0000\n",
            "Epoch 10/20\n",
            "25/25 [==============================] - 0s 10ms/step - loss: 1.4416e-05 - accuracy: 1.0000\n",
            "Epoch 11/20\n",
            "25/25 [==============================] - 0s 10ms/step - loss: 1.1967e-05 - accuracy: 1.0000\n",
            "Epoch 12/20\n",
            "25/25 [==============================] - 0s 10ms/step - loss: 9.7787e-06 - accuracy: 1.0000\n",
            "Epoch 13/20\n",
            "25/25 [==============================] - 0s 9ms/step - loss: 7.9867e-06 - accuracy: 1.0000\n",
            "Epoch 14/20\n",
            "25/25 [==============================] - 0s 10ms/step - loss: 6.5875e-06 - accuracy: 1.0000\n",
            "Epoch 15/20\n",
            "25/25 [==============================] - 0s 9ms/step - loss: 5.4610e-06 - accuracy: 1.0000\n",
            "Epoch 16/20\n",
            "25/25 [==============================] - 0s 11ms/step - loss: 4.4627e-06 - accuracy: 1.0000\n",
            "Epoch 17/20\n",
            "25/25 [==============================] - 0s 10ms/step - loss: 3.6697e-06 - accuracy: 1.0000\n",
            "Epoch 18/20\n",
            "25/25 [==============================] - 0s 10ms/step - loss: 3.0275e-06 - accuracy: 1.0000\n",
            "Epoch 19/20\n",
            "25/25 [==============================] - 0s 10ms/step - loss: 2.4542e-06 - accuracy: 1.0000\n",
            "Epoch 20/20\n",
            "25/25 [==============================] - 0s 11ms/step - loss: 2.0222e-06 - accuracy: 1.0000\n"
          ]
        }
      ]
    },
    {
      "cell_type": "markdown",
      "source": [
        "### Accuracy of second sequential model"
      ],
      "metadata": {
        "id": "-n56vALxtSyq"
      }
    },
    {
      "cell_type": "code",
      "source": [
        "pred2 = model2.predict(x_test_tok)\n",
        "pred_labels2 = [1 if p>0.5 else 0 for p in pred2]\n",
        "Seq2accuracy = []\n",
        "Seq2accuracy += [accuracy_score(y_test_tok, pred_labels2)]\n",
        "Seq2accuracy += [precision_score(y_test_tok, pred_labels2)]\n",
        "Seq2accuracy += [recall_score(y_test_tok, pred_labels2)]\n",
        "Seq2accuracy += [f1_score(y_test_tok, pred_labels2)]\n",
        "print('accuracy score: ', Seq2accuracy[0])\n",
        "print('precision score: ', Seq2accuracy[1])\n",
        "print('recall score: ', Seq2accuracy[2])\n",
        "print('f1 score: ', Seq2accuracy[3])"
      ],
      "metadata": {
        "colab": {
          "base_uri": "https://localhost:8080/"
        },
        "id": "6tbMfR-zJLR7",
        "outputId": "eea1a58e-4e32-4200-89bd-f302e1a06ad7"
      },
      "execution_count": null,
      "outputs": [
        {
          "output_type": "stream",
          "name": "stdout",
          "text": [
            "7/7 [==============================] - 0s 3ms/step\n",
            "accuracy score:  0.885\n",
            "precision score:  0.896551724137931\n",
            "recall score:  0.9043478260869565\n",
            "f1 score:  0.9004329004329004\n"
          ]
        }
      ]
    },
    {
      "cell_type": "markdown",
      "source": [
        "## CNN Model"
      ],
      "metadata": {
        "id": "Bpe2j014tbEd"
      }
    },
    {
      "cell_type": "code",
      "source": [
        "max_features = 25000\n",
        "maxlen = 25000\n",
        "modelCNN = models.Sequential()\n",
        "modelCNN.add(layers.Embedding(max_features, 128, input_length=maxlen)) \n",
        "modelCNN.add(layers.Conv1D(32, 7, activation='relu')) \n",
        "modelCNN.add(layers.MaxPooling1D(5)) \n",
        "modelCNN.add(layers.Conv1D(32, 7, activation='relu')) \n",
        "modelCNN.add(layers.GlobalMaxPooling1D())\n",
        "modelCNN.add(layers.Dense(1))\n"
      ],
      "metadata": {
        "id": "x5LlpZvOJXZP"
      },
      "execution_count": null,
      "outputs": []
    },
    {
      "cell_type": "code",
      "source": [
        "modelCNN.compile(optimizer=tf.keras.optimizers.RMSprop(lr=1e-4),  # set learning rate\n",
        "              loss='binary_crossentropy',\n",
        "              metrics=['accuracy'])\n"
      ],
      "metadata": {
        "colab": {
          "base_uri": "https://localhost:8080/"
        },
        "id": "GehcHFnPKn59",
        "outputId": "2875e766-1db4-4d95-d2b6-a0db51209fed"
      },
      "execution_count": null,
      "outputs": [
        {
          "output_type": "stream",
          "name": "stderr",
          "text": [
            "/usr/local/lib/python3.8/dist-packages/keras/optimizers/optimizer_v2/rmsprop.py:135: UserWarning: The `lr` argument is deprecated, use `learning_rate` instead.\n",
            "  super(RMSprop, self).__init__(name, **kwargs)\n"
          ]
        }
      ]
    },
    {
      "cell_type": "code",
      "source": [
        "history3 = modelCNN.fit(x_train_tok,\n",
        "                    y_train_tok,\n",
        "                    epochs=10,\n",
        "                    verbose = 1,\n",
        "                    validation_split=0.1)"
      ],
      "metadata": {
        "colab": {
          "base_uri": "https://localhost:8080/"
        },
        "id": "mKdnqTUKKs-k",
        "outputId": "8f798ab5-7438-4616-a5ad-8de76094078d"
      },
      "execution_count": null,
      "outputs": [
        {
          "output_type": "stream",
          "name": "stdout",
          "text": [
            "Epoch 1/10\n",
            "23/23 [==============================] - 158s 7s/step - loss: 1.0339 - accuracy: 0.4142 - val_loss: 0.7780 - val_accuracy: 0.4000\n",
            "Epoch 2/10\n",
            "23/23 [==============================] - 156s 7s/step - loss: 0.7113 - accuracy: 0.5091 - val_loss: 0.6652 - val_accuracy: 0.5875\n",
            "Epoch 3/10\n",
            "23/23 [==============================] - 127s 5s/step - loss: 0.6653 - accuracy: 0.5983 - val_loss: 0.6575 - val_accuracy: 0.6500\n",
            "Epoch 4/10\n",
            "23/23 [==============================] - 123s 5s/step - loss: 0.6618 - accuracy: 0.6067 - val_loss: 0.6568 - val_accuracy: 0.6500\n",
            "Epoch 5/10\n",
            "23/23 [==============================] - 120s 5s/step - loss: 0.6604 - accuracy: 0.6025 - val_loss: 0.6590 - val_accuracy: 0.6375\n",
            "Epoch 6/10\n",
            "23/23 [==============================] - 122s 5s/step - loss: 0.6598 - accuracy: 0.6011 - val_loss: 0.6561 - val_accuracy: 0.6500\n",
            "Epoch 7/10\n",
            "23/23 [==============================] - 123s 5s/step - loss: 0.6574 - accuracy: 0.6067 - val_loss: 0.6577 - val_accuracy: 0.6500\n",
            "Epoch 8/10\n",
            "23/23 [==============================] - 121s 5s/step - loss: 0.6555 - accuracy: 0.6109 - val_loss: 0.6592 - val_accuracy: 0.6000\n",
            "Epoch 9/10\n",
            "23/23 [==============================] - 122s 5s/step - loss: 0.6534 - accuracy: 0.6081 - val_loss: 0.6565 - val_accuracy: 0.6500\n",
            "Epoch 10/10\n",
            "23/23 [==============================] - 123s 5s/step - loss: 0.6515 - accuracy: 0.6109 - val_loss: 0.6598 - val_accuracy: 0.6500\n"
          ]
        }
      ]
    },
    {
      "cell_type": "markdown",
      "source": [
        "### Accuracy of CNN Model"
      ],
      "metadata": {
        "id": "e2h0YxKXthZw"
      }
    },
    {
      "cell_type": "code",
      "source": [
        "predCNN = modelCNN.predict(x_test_tok)\n",
        "pred_labelsCNN = [1 if p>0.5 else 0 for p in predCNN]\n",
        "CNNaccuracy = []\n",
        "CNNaccuracy += [accuracy_score(y_test_tok, pred_labelsCNN)]\n",
        "CNNaccuracy += [precision_score(y_test_tok, pred_labelsCNN)]\n",
        "CNNaccuracy += [recall_score(y_test_tok, pred_labelsCNN)]\n",
        "CNNaccuracy += [f1_score(y_test_tok, pred_labelsCNN)]\n",
        "print('accuracy score: ', CNNaccuracy[0])\n",
        "print('precision score: ', CNNaccuracy[1])\n",
        "print('recall score: ', CNNaccuracy[2])\n",
        "print('f1 score: ', CNNaccuracy[3])"
      ],
      "metadata": {
        "colab": {
          "base_uri": "https://localhost:8080/"
        },
        "id": "XfGm8HcFlGfF",
        "outputId": "ab4ff2b2-e814-4a78-f906-39ed0fa686a8"
      },
      "execution_count": null,
      "outputs": [
        {
          "output_type": "stream",
          "name": "stdout",
          "text": [
            "7/7 [==============================] - 7s 972ms/step\n",
            "accuracy score:  0.595\n",
            "precision score:  0.5934065934065934\n",
            "recall score:  0.9391304347826087\n",
            "f1 score:  0.7272727272727273\n"
          ]
        }
      ]
    },
    {
      "cell_type": "markdown",
      "source": [
        "# Embedding Approach"
      ],
      "metadata": {
        "id": "XnNn8taclVcO"
      }
    },
    {
      "cell_type": "code",
      "source": [
        "\n",
        "# set up the Embedding layer in a Sequential model\n",
        "\n",
        "modelEmb = models.Sequential()\n",
        "modelEmb.add(layers.Embedding(max_features, 8, input_length=maxlen))\n",
        "modelEmb.add(layers.Flatten())\n",
        "modelEmb.add(layers.Dense(16, activation='relu', input_shape=(25000,)))\n",
        "modelEmb.add(layers.Dense(16, activation='relu'))\n",
        "modelEmb.add(layers.Dense(1, activation='sigmoid'))\n",
        "\n",
        "modelEmb.compile(optimizer='rmsprop', loss='binary_crossentropy', metrics=['acc'])\n",
        "modelEmb.summary()\n",
        "\n",
        "historyEmb = modelEmb.fit(x_train_tok, y_train_tok, epochs=10, validation_split=0.1)\n"
      ],
      "metadata": {
        "colab": {
          "base_uri": "https://localhost:8080/"
        },
        "id": "CkVGfS7UlU5j",
        "outputId": "859237b4-373f-4b68-e5cd-bbf979a2c320"
      },
      "execution_count": null,
      "outputs": [
        {
          "output_type": "stream",
          "name": "stdout",
          "text": [
            "Model: \"sequential_12\"\n",
            "_________________________________________________________________\n",
            " Layer (type)                Output Shape              Param #   \n",
            "=================================================================\n",
            " embedding_7 (Embedding)     (None, 25000, 8)          200000    \n",
            "                                                                 \n",
            " flatten_5 (Flatten)         (None, 200000)            0         \n",
            "                                                                 \n",
            " dense_26 (Dense)            (None, 16)                3200016   \n",
            "                                                                 \n",
            " dense_27 (Dense)            (None, 16)                272       \n",
            "                                                                 \n",
            " dense_28 (Dense)            (None, 1)                 17        \n",
            "                                                                 \n",
            "=================================================================\n",
            "Total params: 3,400,305\n",
            "Trainable params: 3,400,305\n",
            "Non-trainable params: 0\n",
            "_________________________________________________________________\n",
            "Epoch 1/10\n",
            "23/23 [==============================] - 4s 135ms/step - loss: 0.7162 - acc: 0.5746 - val_loss: 0.6761 - val_acc: 0.6000\n",
            "Epoch 2/10\n",
            "23/23 [==============================] - 3s 112ms/step - loss: 0.6817 - acc: 0.5858 - val_loss: 0.6769 - val_acc: 0.6000\n",
            "Epoch 3/10\n",
            "23/23 [==============================] - 4s 161ms/step - loss: 0.6920 - acc: 0.5858 - val_loss: 0.6723 - val_acc: 0.6000\n",
            "Epoch 4/10\n",
            "23/23 [==============================] - 3s 136ms/step - loss: 0.6793 - acc: 0.5858 - val_loss: 0.6724 - val_acc: 0.6000\n",
            "Epoch 5/10\n",
            "23/23 [==============================] - 3s 113ms/step - loss: 0.6781 - acc: 0.5858 - val_loss: 0.6756 - val_acc: 0.6000\n",
            "Epoch 6/10\n",
            "23/23 [==============================] - 4s 163ms/step - loss: 0.6763 - acc: 0.5858 - val_loss: 0.6680 - val_acc: 0.6000\n",
            "Epoch 7/10\n",
            "23/23 [==============================] - 5s 216ms/step - loss: 0.6711 - acc: 0.5872 - val_loss: 0.5982 - val_acc: 0.7000\n",
            "Epoch 8/10\n",
            "23/23 [==============================] - 4s 152ms/step - loss: 0.6249 - acc: 0.7155 - val_loss: 0.5969 - val_acc: 0.6125\n",
            "Epoch 9/10\n",
            "23/23 [==============================] - 5s 231ms/step - loss: 0.4766 - acc: 0.7768 - val_loss: 0.4498 - val_acc: 0.7875\n",
            "Epoch 10/10\n",
            "23/23 [==============================] - 3s 146ms/step - loss: 0.3651 - acc: 0.8884 - val_loss: 0.3601 - val_acc: 0.8625\n"
          ]
        }
      ]
    },
    {
      "cell_type": "markdown",
      "source": [
        "### Accuracy of Embedding Approach"
      ],
      "metadata": {
        "id": "aonY_DH7tpCS"
      }
    },
    {
      "cell_type": "code",
      "source": [
        "predEmb = modelEmb.predict(x_test_tok)\n",
        "pred_labelsEmb = [1 if p>0.5 else 0 for p in predEmb]\n",
        "Embaccuracy = []\n",
        "Embaccuracy += [accuracy_score(y_test_tok, pred_labelsEmb)]\n",
        "Embaccuracy += [precision_score(y_test_tok, pred_labelsEmb)]\n",
        "Embaccuracy += [recall_score(y_test_tok, pred_labelsEmb)]\n",
        "Embaccuracy += [f1_score(y_test_tok, pred_labelsEmb)]\n",
        "print('accuracy score: ', Embaccuracy[0])\n",
        "print('precision score: ', Embaccuracy[1])\n",
        "print('recall score: ', Embaccuracy[2])\n",
        "print('f1 score: ', Embaccuracy[3])"
      ],
      "metadata": {
        "colab": {
          "base_uri": "https://localhost:8080/"
        },
        "id": "M1qNjhMUnPCF",
        "outputId": "ed7121b1-a472-4187-ad99-cd0b7786e0a8"
      },
      "execution_count": null,
      "outputs": [
        {
          "output_type": "stream",
          "name": "stdout",
          "text": [
            "7/7 [==============================] - 0s 24ms/step\n",
            "accuracy score:  0.875\n",
            "precision score:  0.8260869565217391\n",
            "recall score:  0.991304347826087\n",
            "f1 score:  0.901185770750988\n"
          ]
        }
      ]
    },
    {
      "cell_type": "markdown",
      "source": [
        "# Another Embedding Approach"
      ],
      "metadata": {
        "id": "ZZIqLYZIovgj"
      }
    },
    {
      "cell_type": "code",
      "source": [
        "\n",
        "modelEmb2 = models.Sequential()\n",
        "modelEmb2.add(layers.Embedding(max_features, 8, input_length=maxlen))\n",
        "modelEmb2.add(layers.Flatten())\n",
        "modelEmb2.add(layers.Dense(32, input_dim=vocab_size, kernel_initializer='normal', activation='relu'))\n",
        "modelEmb2.add(layers.Dense(1, kernel_initializer='normal', activation='sigmoid'))\n",
        "\n",
        "modelEmb2.compile(optimizer='adam', loss='binary_crossentropy', metrics=['accuracy'])\n",
        "modelEmb2.summary()\n",
        "\n",
        "historyEmb2 = modelEmb2.fit(x_train_tok, y_train_tok, verbose=1,epochs=20, validation_split=0.1)\n",
        "\n"
      ],
      "metadata": {
        "colab": {
          "base_uri": "https://localhost:8080/"
        },
        "id": "Cm9iJHpOoOVC",
        "outputId": "009f85df-02c2-458c-c39d-f90e2d451ffe"
      },
      "execution_count": null,
      "outputs": [
        {
          "output_type": "stream",
          "name": "stdout",
          "text": [
            "Model: \"sequential_15\"\n",
            "_________________________________________________________________\n",
            " Layer (type)                Output Shape              Param #   \n",
            "=================================================================\n",
            " embedding_10 (Embedding)    (None, 25000, 8)          200000    \n",
            "                                                                 \n",
            " flatten_7 (Flatten)         (None, 200000)            0         \n",
            "                                                                 \n",
            " dense_33 (Dense)            (None, 32)                6400032   \n",
            "                                                                 \n",
            " dense_34 (Dense)            (None, 1)                 33        \n",
            "                                                                 \n",
            "=================================================================\n",
            "Total params: 6,600,065\n",
            "Trainable params: 6,600,065\n",
            "Non-trainable params: 0\n",
            "_________________________________________________________________\n",
            "Epoch 1/20\n",
            "23/23 [==============================] - 4s 112ms/step - loss: 0.6922 - accuracy: 0.5537 - val_loss: 0.6764 - val_accuracy: 0.6000\n",
            "Epoch 2/20\n",
            "23/23 [==============================] - 2s 104ms/step - loss: 0.6805 - accuracy: 0.5858 - val_loss: 0.6725 - val_accuracy: 0.6000\n",
            "Epoch 3/20\n",
            "23/23 [==============================] - 4s 160ms/step - loss: 0.6768 - accuracy: 0.5858 - val_loss: 0.6694 - val_accuracy: 0.6000\n",
            "Epoch 4/20\n",
            "23/23 [==============================] - 2s 105ms/step - loss: 0.6712 - accuracy: 0.5858 - val_loss: 0.6635 - val_accuracy: 0.6000\n",
            "Epoch 5/20\n",
            "23/23 [==============================] - 2s 104ms/step - loss: 0.6583 - accuracy: 0.5858 - val_loss: 0.6447 - val_accuracy: 0.6000\n",
            "Epoch 6/20\n",
            "23/23 [==============================] - 2s 106ms/step - loss: 0.6270 - accuracy: 0.6248 - val_loss: 0.6253 - val_accuracy: 0.7500\n",
            "Epoch 7/20\n",
            "23/23 [==============================] - 2s 105ms/step - loss: 0.5698 - accuracy: 0.7183 - val_loss: 0.5657 - val_accuracy: 0.6125\n",
            "Epoch 8/20\n",
            "23/23 [==============================] - 2s 103ms/step - loss: 0.5167 - accuracy: 0.7238 - val_loss: 0.5207 - val_accuracy: 0.6375\n",
            "Epoch 9/20\n",
            "23/23 [==============================] - 2s 104ms/step - loss: 0.4213 - accuracy: 0.8954 - val_loss: 0.4397 - val_accuracy: 0.9125\n",
            "Epoch 10/20\n",
            "23/23 [==============================] - 2s 105ms/step - loss: 0.3363 - accuracy: 0.9554 - val_loss: 0.3845 - val_accuracy: 0.9125\n",
            "Epoch 11/20\n",
            "23/23 [==============================] - 2s 105ms/step - loss: 0.2783 - accuracy: 0.9386 - val_loss: 0.3647 - val_accuracy: 0.8750\n",
            "Epoch 12/20\n",
            "23/23 [==============================] - 2s 104ms/step - loss: 0.2424 - accuracy: 0.9261 - val_loss: 0.3511 - val_accuracy: 0.9125\n",
            "Epoch 13/20\n",
            "23/23 [==============================] - 2s 104ms/step - loss: 0.1910 - accuracy: 0.9777 - val_loss: 0.3186 - val_accuracy: 0.9125\n",
            "Epoch 14/20\n",
            "23/23 [==============================] - 2s 103ms/step - loss: 0.1541 - accuracy: 0.9777 - val_loss: 0.3337 - val_accuracy: 0.8625\n",
            "Epoch 15/20\n",
            "23/23 [==============================] - 2s 105ms/step - loss: 0.1237 - accuracy: 0.9902 - val_loss: 0.2948 - val_accuracy: 0.9250\n",
            "Epoch 16/20\n",
            "23/23 [==============================] - 2s 107ms/step - loss: 0.1000 - accuracy: 0.9861 - val_loss: 0.2974 - val_accuracy: 0.9250\n",
            "Epoch 17/20\n",
            "23/23 [==============================] - 2s 104ms/step - loss: 0.0807 - accuracy: 0.9902 - val_loss: 0.3636 - val_accuracy: 0.8250\n",
            "Epoch 18/20\n",
            "23/23 [==============================] - 2s 104ms/step - loss: 0.0708 - accuracy: 0.9930 - val_loss: 0.3884 - val_accuracy: 0.8375\n",
            "Epoch 19/20\n",
            "23/23 [==============================] - 2s 106ms/step - loss: 0.0547 - accuracy: 0.9944 - val_loss: 0.2503 - val_accuracy: 0.9250\n",
            "Epoch 20/20\n",
            "23/23 [==============================] - 3s 140ms/step - loss: 0.0441 - accuracy: 0.9944 - val_loss: 0.2436 - val_accuracy: 0.9375\n"
          ]
        }
      ]
    },
    {
      "cell_type": "markdown",
      "source": [
        "### Accuracy of Second Embedding Approach"
      ],
      "metadata": {
        "id": "AQlixs1ytu9M"
      }
    },
    {
      "cell_type": "code",
      "source": [
        "predEmb2 = modelEmb2.predict(x_test_tok)\n",
        "pred_labelsEmb2 = [1 if p>0.5 else 0 for p in predEmb2]\n",
        "Emb2accuracy = []\n",
        "Emb2accuracy += [accuracy_score(y_test_tok, pred_labelsEmb2)]\n",
        "Emb2accuracy += [precision_score(y_test_tok, pred_labelsEmb2)]\n",
        "Emb2accuracy += [recall_score(y_test_tok, pred_labelsEmb2)]\n",
        "Emb2accuracy += [f1_score(y_test_tok, pred_labelsEmb2)]\n",
        "print('accuracy score: ', Emb2accuracy[0])\n",
        "print('precision score: ', Emb2accuracy[1])\n",
        "print('recall score: ', Emb2accuracy[2])\n",
        "print('f1 score: ', Emb2accuracy[3])"
      ],
      "metadata": {
        "colab": {
          "base_uri": "https://localhost:8080/"
        },
        "id": "r25cT00ypcEn",
        "outputId": "fd60d352-b105-49fd-a9df-a2d2fbde592c"
      },
      "execution_count": null,
      "outputs": [
        {
          "output_type": "stream",
          "name": "stdout",
          "text": [
            "7/7 [==============================] - 0s 39ms/step\n",
            "accuracy score:  0.9\n",
            "precision score:  0.8991596638655462\n",
            "recall score:  0.9304347826086956\n",
            "f1 score:  0.9145299145299145\n"
          ]
        }
      ]
    },
    {
      "cell_type": "markdown",
      "source": [
        "## Accuracy Table"
      ],
      "metadata": {
        "id": "pVaZlGkot2y0"
      }
    },
    {
      "cell_type": "code",
      "source": [
        "d = {\n",
        "    'Sequential 1': Seq1accuracy, 'Sequential 2': Seq2accuracy,\n",
        "    'CNN': CNNaccuracy, 'Embedding 1': Embaccuracy, 'Embedding 2': Emb2accuracy,\n",
        "    }\n",
        "\n",
        "print(\"Total Accuracies:\\n\")\n",
        "tot_acc = pd.DataFrame(data=d)\n",
        "tot_acc.insert(0, \"Metrics\", [\"Accuracy\", \"Precision\", \"Recall\", \"F1\"])\n",
        "print(tot_acc.to_string(index=False))"
      ],
      "metadata": {
        "colab": {
          "base_uri": "https://localhost:8080/"
        },
        "id": "0X0Tjoe9t6Xt",
        "outputId": "169fbc6e-b657-4223-ed28-af1f4700d4d0"
      },
      "execution_count": null,
      "outputs": [
        {
          "output_type": "stream",
          "name": "stdout",
          "text": [
            "Total Accuracies:\n",
            "\n",
            "  Metrics  Sequential 1  Sequential 2      CNN  Embedding 1  Embedding 2\n",
            " Accuracy      0.905000      0.885000 0.595000     0.875000     0.900000\n",
            "Precision      0.921053      0.896552 0.593407     0.826087     0.899160\n",
            "   Recall      0.913043      0.904348 0.939130     0.991304     0.930435\n",
            "       F1      0.917031      0.900433 0.727273     0.901186     0.914530\n"
          ]
        }
      ]
    },
    {
      "cell_type": "markdown",
      "source": [
        "## Final Analysis\n",
        "\n",
        "As can be seen from the above table, the very first sequential model performed the best. It had an accuracy 90.5% which was higher than all of other model's accuracies. The CNN approach ended up performing the worst and it also took a long time to train. It took about 20 minutes whereas the other models took barely a minute to train. \n",
        "\n",
        "Initially, I was getting even worse results with the CNN model. I was getting accuracies of about 40%. After changing the topology a few times, I was able to get it to 59% which still isn't that good. \n",
        "\n",
        "I did 2 sequential models because I wanted to try different topologies and see how they performed. I also did 2 models with embedding approaches for the same reason. In the second embedding approach, I kept everything the same as the the first sequential model, and just added an embedding layer. That gave me very good results as I was able to get an accuracy of 90%.\n",
        "\n",
        "All in all, it seems that for my dataset, using a simple sequential model seemed to do the trick. I achieved the best metrics through it and it was very efficient time-wise as well.\n"
      ],
      "metadata": {
        "id": "nVYOD0tTwfNx"
      }
    }
  ]
}